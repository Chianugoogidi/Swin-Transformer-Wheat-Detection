{
 "cells": [
  {
   "cell_type": "code",
   "execution_count": null,
   "source": [
    "import os\n",
    "import sys\n",
    "sys.path.append(os.path.abspath('..'))\n",
    "\n",
    "import cv2\n",
    "import random\n",
    "import pandas as pd\n",
    "from pathlib import Path\n",
    "import matplotlib.pyplot as plt\n",
    "\n",
    "from mmdet.datasets import build_dataset, build_dataloader\n",
    "from mmdet.apis import init_detector, inference_detector\n",
    "from mmcv import Config"
   ],
   "outputs": [],
   "metadata": {}
  },
  {
   "cell_type": "code",
   "execution_count": null,
   "source": [
    "# Specify the path to model config and checkpoint file\n",
    "cfg = Config.fromfile(\"../configs/gwhd/mask_rcnn_swin_tiny_patch4_window7_mstrain_480-800_adamw_3x_gwhd.py\")\n",
    "checkpoint_file = '../experiments/moby_swin_t_imnet_mask_rcnn_3x/latest.pth'\n",
    "\n",
    "# build the model from a config file and a checkpoint file\n",
    "model = init_detector(cfg, checkpoint_file)"
   ],
   "outputs": [],
   "metadata": {}
  },
  {
   "cell_type": "code",
   "execution_count": null,
   "source": [
    "cfg.data.val.ann_file = \"gwhd_2021/annotations/test.json\"\n",
    "cfg.data.val.img_prefix = \"gwhd_2021/images\"\n",
    "dataset = build_dataset(cfg.data.val, dict(test_mode=True))"
   ],
   "outputs": [],
   "metadata": {}
  },
  {
   "cell_type": "code",
   "execution_count": null,
   "source": [
    "from mmcv import ProgressBar\n",
    "\n",
    "dataloader = build_dataloader(\n",
    "                dataset, \n",
    "                16,\n",
    "                cfg.data.workers_per_gpu,\n",
    "                shuffle=False,\n",
    "                dist=False)\n",
    "\n",
    "results = []\n",
    "prog_bar = ProgressBar(len(dataset))\n",
    "for idx, batch in enumerate(dataloader):\n",
    "    imgs = [item[\"filename\"] for item in batch['img_metas'][0].data[0]]\n",
    "    result = inference_detector(model, imgs)\n",
    "    batch_size = len(result)\n",
    "    results.extend(result)\n",
    "    for _ in range(batch_size):\n",
    "        prog_bar.update()"
   ],
   "outputs": [],
   "metadata": {}
  },
  {
   "cell_type": "code",
   "execution_count": null,
   "source": [
    "len(results)"
   ],
   "outputs": [],
   "metadata": {}
  },
  {
   "cell_type": "code",
   "execution_count": null,
   "source": [
    "eval_res = dataloader.dataset.evaluate(results)"
   ],
   "outputs": [],
   "metadata": {}
  },
  {
   "cell_type": "code",
   "execution_count": null,
   "source": [
    "hlines = []\n",
    "for i in range(4):\n",
    "  vlines = []\n",
    "  for j in range(4):\n",
    "    idx = random.randint(0, len(dataset))\n",
    "\n",
    "    #img = dataset[idx]['img'][0]._data.permute(1, 2, 0)\n",
    "    img_path = dataset[idx][\"img_metas\"][0]._data[\"filename\"]\n",
    "    img = cv2.imread(img_path)\n",
    "    img = cv2.cvtColor(img, cv2.COLOR_BGR2RGB)\n",
    "\n",
    "    result = inference_detector(model, img)\n",
    "\n",
    "    pboxes = result[0][:, 0:4]\n",
    "    scores = result[0][:, 4]\n",
    "    pboxes = pboxes[scores > 0.5]\n",
    "\n",
    "    for (x, y, xx, yy) in pboxes:\n",
    "      cv2.rectangle(img, (int(x.item()), int(y.item())), (int(xx.item()), int(yy.item())), (0, 255, 255), 2)\n",
    "\n",
    "    vlines.append(img)\n",
    "  hlines.append(cv2.vconcat(vlines))\n",
    "\n",
    "final_img = cv2.hconcat(hlines)\n",
    "\n",
    "fig ,ax = plt.subplots(1, 1, figsize=(20, 20))\n",
    "plt.imshow(final_img)"
   ],
   "outputs": [],
   "metadata": {}
  },
  {
   "cell_type": "code",
   "execution_count": null,
   "source": [],
   "outputs": [],
   "metadata": {}
  }
 ],
 "metadata": {
  "interpreter": {
   "hash": "121e5e008b1865e5d059e7b20de3fa1e049c78bd8b22ed034dd7e384c311ddda"
  },
  "kernelspec": {
   "name": "python3",
   "display_name": "Python 3.7.11 64-bit ('swin_t': conda)"
  },
  "language_info": {
   "codemirror_mode": {
    "name": "ipython",
    "version": 3
   },
   "file_extension": ".py",
   "mimetype": "text/x-python",
   "name": "python",
   "nbconvert_exporter": "python",
   "pygments_lexer": "ipython3",
   "version": "3.7.11"
  },
  "orig_nbformat": 4
 },
 "nbformat": 4,
 "nbformat_minor": 2
}